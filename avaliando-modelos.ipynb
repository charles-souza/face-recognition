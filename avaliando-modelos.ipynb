{
 "cells": [
  {
   "cell_type": "code",
   "execution_count": 238,
   "metadata": {},
   "outputs": [],
   "source": [
    "import numpy as np\n",
    "import pandas as pd\n",
    "\n",
    "import matplotlib.pyplot as plt\n",
    "%matplotlib inline"
   ]
  },
  {
   "cell_type": "code",
   "execution_count": 239,
   "metadata": {},
   "outputs": [],
   "source": [
    "df = pd.read_csv(\"faces.csv\")"
   ]
  },
  {
   "cell_type": "code",
   "execution_count": 240,
   "metadata": {},
   "outputs": [
    {
     "data": {
      "text/html": [
       "<div>\n",
       "<style scoped>\n",
       "    .dataframe tbody tr th:only-of-type {\n",
       "        vertical-align: middle;\n",
       "    }\n",
       "\n",
       "    .dataframe tbody tr th {\n",
       "        vertical-align: top;\n",
       "    }\n",
       "\n",
       "    .dataframe thead th {\n",
       "        text-align: right;\n",
       "    }\n",
       "</style>\n",
       "<table border=\"1\" class=\"dataframe\">\n",
       "  <thead>\n",
       "    <tr style=\"text-align: right;\">\n",
       "      <th></th>\n",
       "      <th>Unnamed: 0</th>\n",
       "      <th>0</th>\n",
       "      <th>1</th>\n",
       "      <th>2</th>\n",
       "      <th>3</th>\n",
       "      <th>4</th>\n",
       "      <th>5</th>\n",
       "      <th>6</th>\n",
       "      <th>7</th>\n",
       "      <th>8</th>\n",
       "      <th>...</th>\n",
       "      <th>119</th>\n",
       "      <th>120</th>\n",
       "      <th>121</th>\n",
       "      <th>122</th>\n",
       "      <th>123</th>\n",
       "      <th>124</th>\n",
       "      <th>125</th>\n",
       "      <th>126</th>\n",
       "      <th>127</th>\n",
       "      <th>target</th>\n",
       "    </tr>\n",
       "  </thead>\n",
       "  <tbody>\n",
       "    <tr>\n",
       "      <th>73</th>\n",
       "      <td>73</td>\n",
       "      <td>-0.917374</td>\n",
       "      <td>0.942663</td>\n",
       "      <td>-0.257429</td>\n",
       "      <td>1.447002</td>\n",
       "      <td>-0.268871</td>\n",
       "      <td>0.627252</td>\n",
       "      <td>-0.046882</td>\n",
       "      <td>-1.685941</td>\n",
       "      <td>0.525852</td>\n",
       "      <td>...</td>\n",
       "      <td>1.055401</td>\n",
       "      <td>-2.274048</td>\n",
       "      <td>-2.465725</td>\n",
       "      <td>3.886626</td>\n",
       "      <td>0.269167</td>\n",
       "      <td>0.430756</td>\n",
       "      <td>1.914558</td>\n",
       "      <td>0.902910</td>\n",
       "      <td>2.595966</td>\n",
       "      <td>charles</td>\n",
       "    </tr>\n",
       "    <tr>\n",
       "      <th>74</th>\n",
       "      <td>74</td>\n",
       "      <td>0.247517</td>\n",
       "      <td>0.990445</td>\n",
       "      <td>-0.223442</td>\n",
       "      <td>-0.373292</td>\n",
       "      <td>0.191925</td>\n",
       "      <td>-0.213439</td>\n",
       "      <td>0.248923</td>\n",
       "      <td>-1.730467</td>\n",
       "      <td>0.392964</td>\n",
       "      <td>...</td>\n",
       "      <td>0.463284</td>\n",
       "      <td>-1.416748</td>\n",
       "      <td>-0.058870</td>\n",
       "      <td>3.580489</td>\n",
       "      <td>0.723680</td>\n",
       "      <td>0.488406</td>\n",
       "      <td>2.272655</td>\n",
       "      <td>0.302743</td>\n",
       "      <td>2.920565</td>\n",
       "      <td>charles</td>\n",
       "    </tr>\n",
       "    <tr>\n",
       "      <th>75</th>\n",
       "      <td>75</td>\n",
       "      <td>-0.450970</td>\n",
       "      <td>-1.194208</td>\n",
       "      <td>0.475538</td>\n",
       "      <td>0.236720</td>\n",
       "      <td>-0.041058</td>\n",
       "      <td>-0.191835</td>\n",
       "      <td>-0.218016</td>\n",
       "      <td>0.102758</td>\n",
       "      <td>0.378250</td>\n",
       "      <td>...</td>\n",
       "      <td>-0.155984</td>\n",
       "      <td>0.853813</td>\n",
       "      <td>-0.187039</td>\n",
       "      <td>-0.234237</td>\n",
       "      <td>-0.218337</td>\n",
       "      <td>0.098499</td>\n",
       "      <td>0.087090</td>\n",
       "      <td>0.134367</td>\n",
       "      <td>0.432738</td>\n",
       "      <td>charles</td>\n",
       "    </tr>\n",
       "    <tr>\n",
       "      <th>76</th>\n",
       "      <td>76</td>\n",
       "      <td>-1.307045</td>\n",
       "      <td>0.576326</td>\n",
       "      <td>0.714174</td>\n",
       "      <td>-2.455469</td>\n",
       "      <td>-0.693765</td>\n",
       "      <td>-0.021244</td>\n",
       "      <td>0.972243</td>\n",
       "      <td>1.856137</td>\n",
       "      <td>1.052781</td>\n",
       "      <td>...</td>\n",
       "      <td>-0.587567</td>\n",
       "      <td>1.100624</td>\n",
       "      <td>0.493432</td>\n",
       "      <td>-0.216325</td>\n",
       "      <td>-0.353358</td>\n",
       "      <td>-1.215957</td>\n",
       "      <td>0.863190</td>\n",
       "      <td>0.387483</td>\n",
       "      <td>-0.714543</td>\n",
       "      <td>charles</td>\n",
       "    </tr>\n",
       "    <tr>\n",
       "      <th>77</th>\n",
       "      <td>77</td>\n",
       "      <td>-1.376472</td>\n",
       "      <td>0.448559</td>\n",
       "      <td>-0.938152</td>\n",
       "      <td>1.255337</td>\n",
       "      <td>0.124838</td>\n",
       "      <td>-0.105280</td>\n",
       "      <td>0.182059</td>\n",
       "      <td>-0.710798</td>\n",
       "      <td>0.531238</td>\n",
       "      <td>...</td>\n",
       "      <td>1.401774</td>\n",
       "      <td>-2.340869</td>\n",
       "      <td>-1.079947</td>\n",
       "      <td>1.640460</td>\n",
       "      <td>0.208107</td>\n",
       "      <td>-0.252765</td>\n",
       "      <td>2.125772</td>\n",
       "      <td>0.220471</td>\n",
       "      <td>1.678880</td>\n",
       "      <td>charles</td>\n",
       "    </tr>\n",
       "  </tbody>\n",
       "</table>\n",
       "<p>5 rows × 130 columns</p>\n",
       "</div>"
      ],
      "text/plain": [
       "    Unnamed: 0         0         1         2         3         4         5  \\\n",
       "73          73 -0.917374  0.942663 -0.257429  1.447002 -0.268871  0.627252   \n",
       "74          74  0.247517  0.990445 -0.223442 -0.373292  0.191925 -0.213439   \n",
       "75          75 -0.450970 -1.194208  0.475538  0.236720 -0.041058 -0.191835   \n",
       "76          76 -1.307045  0.576326  0.714174 -2.455469 -0.693765 -0.021244   \n",
       "77          77 -1.376472  0.448559 -0.938152  1.255337  0.124838 -0.105280   \n",
       "\n",
       "           6         7         8  ...       119       120       121       122  \\\n",
       "73 -0.046882 -1.685941  0.525852  ...  1.055401 -2.274048 -2.465725  3.886626   \n",
       "74  0.248923 -1.730467  0.392964  ...  0.463284 -1.416748 -0.058870  3.580489   \n",
       "75 -0.218016  0.102758  0.378250  ... -0.155984  0.853813 -0.187039 -0.234237   \n",
       "76  0.972243  1.856137  1.052781  ... -0.587567  1.100624  0.493432 -0.216325   \n",
       "77  0.182059 -0.710798  0.531238  ...  1.401774 -2.340869 -1.079947  1.640460   \n",
       "\n",
       "         123       124       125       126       127   target  \n",
       "73  0.269167  0.430756  1.914558  0.902910  2.595966  charles  \n",
       "74  0.723680  0.488406  2.272655  0.302743  2.920565  charles  \n",
       "75 -0.218337  0.098499  0.087090  0.134367  0.432738  charles  \n",
       "76 -0.353358 -1.215957  0.863190  0.387483 -0.714543  charles  \n",
       "77  0.208107 -0.252765  2.125772  0.220471  1.678880  charles  \n",
       "\n",
       "[5 rows x 130 columns]"
      ]
     },
     "execution_count": 240,
     "metadata": {},
     "output_type": "execute_result"
    }
   ],
   "source": [
    "df.tail()"
   ]
  },
  {
   "cell_type": "code",
   "execution_count": 316,
   "metadata": {},
   "outputs": [],
   "source": [
    "X = np.array(df.drop(['Unnamed: 0', 'target'], axis=1))"
   ]
  },
  {
   "cell_type": "code",
   "execution_count": 318,
   "metadata": {},
   "outputs": [
    {
     "data": {
      "text/plain": [
       "(78, 128)"
      ]
     },
     "execution_count": 318,
     "metadata": {},
     "output_type": "execute_result"
    }
   ],
   "source": [
    "X.shape"
   ]
  },
  {
   "cell_type": "code",
   "execution_count": 319,
   "metadata": {},
   "outputs": [],
   "source": [
    "y = np.array(df.target)"
   ]
  },
  {
   "cell_type": "code",
   "execution_count": 320,
   "metadata": {},
   "outputs": [
    {
     "data": {
      "text/plain": [
       "(78,)"
      ]
     },
     "execution_count": 320,
     "metadata": {},
     "output_type": "execute_result"
    }
   ],
   "source": [
    "y.shape"
   ]
  },
  {
   "cell_type": "markdown",
   "metadata": {},
   "source": [
    "## MISTURANDO TUDO"
   ]
  },
  {
   "cell_type": "code",
   "execution_count": 321,
   "metadata": {},
   "outputs": [],
   "source": [
    "from sklearn.utils import shuffle"
   ]
  },
  {
   "cell_type": "code",
   "execution_count": 322,
   "metadata": {},
   "outputs": [],
   "source": [
    "trainX, trainY = shuffle(X, y, random_state=0)"
   ]
  },
  {
   "cell_type": "markdown",
   "metadata": {},
   "source": [
    "## TRATAR LABELS"
   ]
  },
  {
   "cell_type": "code",
   "execution_count": 323,
   "metadata": {},
   "outputs": [],
   "source": [
    "from sklearn.preprocessing import LabelEncoder"
   ]
  },
  {
   "cell_type": "code",
   "execution_count": 324,
   "metadata": {},
   "outputs": [],
   "source": [
    "out_encoder = LabelEncoder()"
   ]
  },
  {
   "cell_type": "code",
   "execution_count": 325,
   "metadata": {},
   "outputs": [
    {
     "data": {
      "text/plain": [
       "LabelEncoder()"
      ]
     },
     "execution_count": 325,
     "metadata": {},
     "output_type": "execute_result"
    }
   ],
   "source": [
    "out_encoder.fit(trainY)"
   ]
  },
  {
   "cell_type": "code",
   "execution_count": 326,
   "metadata": {},
   "outputs": [],
   "source": [
    "trainY = out_encoder.transform(trainY)"
   ]
  },
  {
   "cell_type": "code",
   "execution_count": 327,
   "metadata": {},
   "outputs": [
    {
     "data": {
      "text/plain": [
       "array([0, 1, 1, 0, 0, 0, 0, 0, 0, 0, 0, 0, 1, 0, 0, 1, 1, 1, 1, 1, 0, 0,\n",
       "       0, 0, 0, 1, 0, 0, 1, 0, 0, 1, 1, 0, 1, 1, 0, 1, 1, 1, 0, 0, 1, 1,\n",
       "       0, 1, 0, 1, 1, 1, 1, 1, 1, 0, 1, 1, 0, 1, 0, 1, 0, 1, 1, 1, 1, 0,\n",
       "       0, 0, 0, 1, 1, 1, 1, 0, 0, 0, 0, 0])"
      ]
     },
     "execution_count": 327,
     "metadata": {},
     "output_type": "execute_result"
    }
   ],
   "source": [
    "trainY"
   ]
  },
  {
   "cell_type": "markdown",
   "metadata": {},
   "source": [
    "## VALIDATION"
   ]
  },
  {
   "cell_type": "code",
   "execution_count": 328,
   "metadata": {},
   "outputs": [],
   "source": [
    "df_val = pd.read_csv(\"faces_validation.csv\")"
   ]
  },
  {
   "cell_type": "code",
   "execution_count": 329,
   "metadata": {},
   "outputs": [
    {
     "data": {
      "text/html": [
       "<div>\n",
       "<style scoped>\n",
       "    .dataframe tbody tr th:only-of-type {\n",
       "        vertical-align: middle;\n",
       "    }\n",
       "\n",
       "    .dataframe tbody tr th {\n",
       "        vertical-align: top;\n",
       "    }\n",
       "\n",
       "    .dataframe thead th {\n",
       "        text-align: right;\n",
       "    }\n",
       "</style>\n",
       "<table border=\"1\" class=\"dataframe\">\n",
       "  <thead>\n",
       "    <tr style=\"text-align: right;\">\n",
       "      <th></th>\n",
       "      <th>Unnamed: 0</th>\n",
       "      <th>0</th>\n",
       "      <th>1</th>\n",
       "      <th>2</th>\n",
       "      <th>3</th>\n",
       "      <th>4</th>\n",
       "      <th>5</th>\n",
       "      <th>6</th>\n",
       "      <th>7</th>\n",
       "      <th>8</th>\n",
       "      <th>...</th>\n",
       "      <th>119</th>\n",
       "      <th>120</th>\n",
       "      <th>121</th>\n",
       "      <th>122</th>\n",
       "      <th>123</th>\n",
       "      <th>124</th>\n",
       "      <th>125</th>\n",
       "      <th>126</th>\n",
       "      <th>127</th>\n",
       "      <th>target</th>\n",
       "    </tr>\n",
       "  </thead>\n",
       "  <tbody>\n",
       "    <tr>\n",
       "      <th>21</th>\n",
       "      <td>21</td>\n",
       "      <td>-0.585182</td>\n",
       "      <td>0.506860</td>\n",
       "      <td>0.113615</td>\n",
       "      <td>0.847161</td>\n",
       "      <td>0.972314</td>\n",
       "      <td>0.246608</td>\n",
       "      <td>0.489368</td>\n",
       "      <td>-0.229752</td>\n",
       "      <td>-0.121398</td>\n",
       "      <td>...</td>\n",
       "      <td>0.615384</td>\n",
       "      <td>-1.800110</td>\n",
       "      <td>-1.781654</td>\n",
       "      <td>2.644914</td>\n",
       "      <td>0.675368</td>\n",
       "      <td>0.134593</td>\n",
       "      <td>0.718869</td>\n",
       "      <td>0.185666</td>\n",
       "      <td>1.066420</td>\n",
       "      <td>charles</td>\n",
       "    </tr>\n",
       "    <tr>\n",
       "      <th>22</th>\n",
       "      <td>22</td>\n",
       "      <td>0.211507</td>\n",
       "      <td>0.705608</td>\n",
       "      <td>-0.319360</td>\n",
       "      <td>0.746849</td>\n",
       "      <td>0.671610</td>\n",
       "      <td>-0.831424</td>\n",
       "      <td>1.365845</td>\n",
       "      <td>-0.894239</td>\n",
       "      <td>-0.863984</td>\n",
       "      <td>...</td>\n",
       "      <td>0.987119</td>\n",
       "      <td>-1.993798</td>\n",
       "      <td>-1.045183</td>\n",
       "      <td>1.565684</td>\n",
       "      <td>-0.053970</td>\n",
       "      <td>-1.060496</td>\n",
       "      <td>1.673226</td>\n",
       "      <td>-1.152325</td>\n",
       "      <td>0.796766</td>\n",
       "      <td>charles</td>\n",
       "    </tr>\n",
       "    <tr>\n",
       "      <th>23</th>\n",
       "      <td>23</td>\n",
       "      <td>-0.923114</td>\n",
       "      <td>0.402916</td>\n",
       "      <td>0.223180</td>\n",
       "      <td>1.038836</td>\n",
       "      <td>0.823114</td>\n",
       "      <td>0.052488</td>\n",
       "      <td>0.797666</td>\n",
       "      <td>-0.110839</td>\n",
       "      <td>-0.666240</td>\n",
       "      <td>...</td>\n",
       "      <td>0.581508</td>\n",
       "      <td>-1.716912</td>\n",
       "      <td>-1.802735</td>\n",
       "      <td>2.382299</td>\n",
       "      <td>0.709166</td>\n",
       "      <td>-0.057983</td>\n",
       "      <td>0.978862</td>\n",
       "      <td>0.287745</td>\n",
       "      <td>1.126276</td>\n",
       "      <td>charles</td>\n",
       "    </tr>\n",
       "    <tr>\n",
       "      <th>24</th>\n",
       "      <td>24</td>\n",
       "      <td>-0.084849</td>\n",
       "      <td>0.931331</td>\n",
       "      <td>-0.226256</td>\n",
       "      <td>0.852367</td>\n",
       "      <td>0.235294</td>\n",
       "      <td>-0.693591</td>\n",
       "      <td>1.460718</td>\n",
       "      <td>-0.654452</td>\n",
       "      <td>-0.841600</td>\n",
       "      <td>...</td>\n",
       "      <td>0.863670</td>\n",
       "      <td>-1.888515</td>\n",
       "      <td>-0.986585</td>\n",
       "      <td>1.726360</td>\n",
       "      <td>-0.304588</td>\n",
       "      <td>-1.063153</td>\n",
       "      <td>1.653649</td>\n",
       "      <td>-1.038273</td>\n",
       "      <td>0.849434</td>\n",
       "      <td>charles</td>\n",
       "    </tr>\n",
       "    <tr>\n",
       "      <th>25</th>\n",
       "      <td>25</td>\n",
       "      <td>-0.012188</td>\n",
       "      <td>0.544110</td>\n",
       "      <td>0.012265</td>\n",
       "      <td>0.641852</td>\n",
       "      <td>0.421861</td>\n",
       "      <td>-0.781310</td>\n",
       "      <td>1.351522</td>\n",
       "      <td>-1.202856</td>\n",
       "      <td>-0.317362</td>\n",
       "      <td>...</td>\n",
       "      <td>1.123052</td>\n",
       "      <td>-1.697319</td>\n",
       "      <td>-1.315170</td>\n",
       "      <td>2.592839</td>\n",
       "      <td>0.336983</td>\n",
       "      <td>-0.573603</td>\n",
       "      <td>1.323194</td>\n",
       "      <td>-1.152797</td>\n",
       "      <td>1.538043</td>\n",
       "      <td>charles</td>\n",
       "    </tr>\n",
       "  </tbody>\n",
       "</table>\n",
       "<p>5 rows × 130 columns</p>\n",
       "</div>"
      ],
      "text/plain": [
       "    Unnamed: 0         0         1         2         3         4         5  \\\n",
       "21          21 -0.585182  0.506860  0.113615  0.847161  0.972314  0.246608   \n",
       "22          22  0.211507  0.705608 -0.319360  0.746849  0.671610 -0.831424   \n",
       "23          23 -0.923114  0.402916  0.223180  1.038836  0.823114  0.052488   \n",
       "24          24 -0.084849  0.931331 -0.226256  0.852367  0.235294 -0.693591   \n",
       "25          25 -0.012188  0.544110  0.012265  0.641852  0.421861 -0.781310   \n",
       "\n",
       "           6         7         8  ...       119       120       121       122  \\\n",
       "21  0.489368 -0.229752 -0.121398  ...  0.615384 -1.800110 -1.781654  2.644914   \n",
       "22  1.365845 -0.894239 -0.863984  ...  0.987119 -1.993798 -1.045183  1.565684   \n",
       "23  0.797666 -0.110839 -0.666240  ...  0.581508 -1.716912 -1.802735  2.382299   \n",
       "24  1.460718 -0.654452 -0.841600  ...  0.863670 -1.888515 -0.986585  1.726360   \n",
       "25  1.351522 -1.202856 -0.317362  ...  1.123052 -1.697319 -1.315170  2.592839   \n",
       "\n",
       "         123       124       125       126       127   target  \n",
       "21  0.675368  0.134593  0.718869  0.185666  1.066420  charles  \n",
       "22 -0.053970 -1.060496  1.673226 -1.152325  0.796766  charles  \n",
       "23  0.709166 -0.057983  0.978862  0.287745  1.126276  charles  \n",
       "24 -0.304588 -1.063153  1.653649 -1.038273  0.849434  charles  \n",
       "25  0.336983 -0.573603  1.323194 -1.152797  1.538043  charles  \n",
       "\n",
       "[5 rows x 130 columns]"
      ]
     },
     "execution_count": 329,
     "metadata": {},
     "output_type": "execute_result"
    }
   ],
   "source": [
    "df_val.tail()"
   ]
  },
  {
   "cell_type": "code",
   "execution_count": 330,
   "metadata": {},
   "outputs": [
    {
     "data": {
      "text/plain": [
       "(26, 128)"
      ]
     },
     "execution_count": 330,
     "metadata": {},
     "output_type": "execute_result"
    }
   ],
   "source": [
    "valX = np.array(df_val.drop(['Unnamed: 0', 'target'], axis=1))\n",
    "valY = np.array(df_val.target)\n",
    "valX.shape"
   ]
  },
  {
   "cell_type": "code",
   "execution_count": 331,
   "metadata": {},
   "outputs": [
    {
     "data": {
      "text/plain": [
       "LabelEncoder()"
      ]
     },
     "execution_count": 331,
     "metadata": {},
     "output_type": "execute_result"
    }
   ],
   "source": [
    "out_encoder.fit(valY)"
   ]
  },
  {
   "cell_type": "code",
   "execution_count": 332,
   "metadata": {},
   "outputs": [],
   "source": [
    "valY = out_encoder.transform(valY)"
   ]
  },
  {
   "cell_type": "markdown",
   "metadata": {},
   "source": [
    "## AVALIANDO ALGORITMOS"
   ]
  },
  {
   "cell_type": "markdown",
   "metadata": {},
   "source": [
    "## KNN"
   ]
  },
  {
   "cell_type": "code",
   "execution_count": 333,
   "metadata": {},
   "outputs": [],
   "source": [
    "from sklearn.neighbors import KNeighborsClassifier"
   ]
  },
  {
   "cell_type": "code",
   "execution_count": 334,
   "metadata": {},
   "outputs": [],
   "source": [
    "knn = KNeighborsClassifier(n_neighbors=3)"
   ]
  },
  {
   "cell_type": "code",
   "execution_count": 335,
   "metadata": {},
   "outputs": [
    {
     "data": {
      "text/plain": [
       "KNeighborsClassifier(n_neighbors=3)"
      ]
     },
     "execution_count": 335,
     "metadata": {},
     "output_type": "execute_result"
    }
   ],
   "source": [
    "knn.fit(trainX, trainY)"
   ]
  },
  {
   "cell_type": "code",
   "execution_count": 336,
   "metadata": {},
   "outputs": [],
   "source": [
    "yhat_train = knn.predict(trainX)\n",
    "yhat_val   = knn.predict(valX) "
   ]
  },
  {
   "cell_type": "code",
   "execution_count": 337,
   "metadata": {},
   "outputs": [
    {
     "data": {
      "text/plain": [
       "array([1, 1, 1, 1, 1, 1, 0, 1, 1, 1, 1, 1, 0, 0, 0, 0, 0, 0, 1, 0, 1, 0,\n",
       "       0, 0, 0, 0])"
      ]
     },
     "execution_count": 337,
     "metadata": {},
     "output_type": "execute_result"
    }
   ],
   "source": [
    "yhat_val"
   ]
  },
  {
   "cell_type": "code",
   "execution_count": 338,
   "metadata": {},
   "outputs": [],
   "source": [
    "from sklearn.metrics import confusion_matrix"
   ]
  },
  {
   "cell_type": "code",
   "execution_count": 339,
   "metadata": {},
   "outputs": [],
   "source": [
    "def print_confusion_matrix(model_name, valY, yhat_val):\n",
    "    \n",
    "    cm = confusion_matrix(valY, yhat_val)\n",
    "    total = sum(sum(cm))\n",
    "    acc = (cm[0, 0] + cm[1, 1]) / total\n",
    "    sensitivity = cm[0, 0] / (cm[0, 0] + cm[0, 1])\n",
    "    specificity = cm[1, 1] / (cm[1, 0] + cm[1, 1])\n",
    "    \n",
    "    print(\"MODELO : {}\".format(model_name))\n",
    "    print(\"Acurácia: {:.4f}\".format(acc))\n",
    "    print(\"Sensitividade: {:.4f}\".format(sensitivity))\n",
    "    print(\"Especificidade: {:.4f}\".format(specificity))\n",
    "    \n",
    "    from mlxtend.plotting import plot_confusion_matrix\n",
    "    fig, ax = plot_confusion_matrix(conf_mat=cm, figsize=(5, 5))\n",
    "    plt.show()"
   ]
  },
  {
   "cell_type": "code",
   "execution_count": 340,
   "metadata": {},
   "outputs": [
    {
     "name": "stdout",
     "output_type": "stream",
     "text": [
      "MODELO : KNN\n",
      "Acurácia: 0.8846\n",
      "Sensitividade: 0.8571\n",
      "Especificidade: 0.9167\n"
     ]
    },
    {
     "data": {
      "image/png": "[encoded data removed]",
      "text/plain": [
       "<Figure size 360x360 with 1 Axes>"
      ]
     },
     "metadata": {
      "needs_background": "light"
     },
     "output_type": "display_data"
    }
   ],
   "source": [
    "print_confusion_matrix(\"KNN\", valY, yhat_val)"
   ]
  },
  {
   "cell_type": "markdown",
   "metadata": {},
   "source": [
    "### SVM"
   ]
  },
  {
   "cell_type": "code",
   "execution_count": 341,
   "metadata": {},
   "outputs": [],
   "source": [
    "from sklearn import svm"
   ]
  },
  {
   "cell_type": "code",
   "execution_count": 342,
   "metadata": {},
   "outputs": [],
   "source": [
    "svm = svm.SVC()"
   ]
  },
  {
   "cell_type": "code",
   "execution_count": 343,
   "metadata": {},
   "outputs": [
    {
     "data": {
      "text/plain": [
       "SVC()"
      ]
     },
     "execution_count": 343,
     "metadata": {},
     "output_type": "execute_result"
    }
   ],
   "source": [
    "svm.fit(trainX, trainY)"
   ]
  },
  {
   "cell_type": "code",
   "execution_count": 344,
   "metadata": {},
   "outputs": [],
   "source": [
    "yhat_train = svm.predict(trainX)\n",
    "yhat_val   = svm.predict(valX) "
   ]
  },
  {
   "cell_type": "code",
   "execution_count": 345,
   "metadata": {},
   "outputs": [
    {
     "name": "stdout",
     "output_type": "stream",
     "text": [
      "MODELO : SVM\n",
      "Acurácia: 0.9231\n",
      "Sensitividade: 1.0000\n",
      "Especificidade: 0.8333\n"
     ]
    },
    {
     "data": {
      "image/png": "[encoded data removed]",
      "text/plain": [
       "<Figure size 360x360 with 1 Axes>"
      ]
     },
     "metadata": {
      "needs_background": "light"
     },
     "output_type": "display_data"
    }
   ],
   "source": [
    "print_confusion_matrix(\"SVM\", valY, yhat_val)"
   ]
  },
  {
   "cell_type": "markdown",
   "metadata": {},
   "source": [
    "## USANDO O KERAS"
   ]
  },
  {
   "cell_type": "code",
   "execution_count": 346,
   "metadata": {},
   "outputs": [],
   "source": [
    "from tensorflow.keras.utils import to_categorical"
   ]
  },
  {
   "cell_type": "code",
   "execution_count": 347,
   "metadata": {},
   "outputs": [],
   "source": [
    "trainY = to_categorical(trainY)"
   ]
  },
  {
   "cell_type": "code",
   "execution_count": 348,
   "metadata": {},
   "outputs": [],
   "source": [
    "valY = to_categorical(valY)"
   ]
  },
  {
   "cell_type": "code",
   "execution_count": 349,
   "metadata": {},
   "outputs": [],
   "source": [
    "from tensorflow.keras import models\n",
    "from tensorflow.keras import layers"
   ]
  },
  {
   "cell_type": "code",
   "execution_count": 350,
   "metadata": {},
   "outputs": [
    {
     "name": "stdout",
     "output_type": "stream",
     "text": [
      "Model: \"sequential_2\"\n",
      "_________________________________________________________________\n",
      "Layer (type)                 Output Shape              Param #   \n",
      "=================================================================\n",
      "dense_4 (Dense)              (None, 64)                8256      \n",
      "_________________________________________________________________\n",
      "dropout_2 (Dropout)          (None, 64)                0         \n",
      "_________________________________________________________________\n",
      "dense_5 (Dense)              (None, 2)                 130       \n",
      "=================================================================\n",
      "Total params: 8,386\n",
      "Trainable params: 8,386\n",
      "Non-trainable params: 0\n",
      "_________________________________________________________________\n"
     ]
    }
   ],
   "source": [
    "model = models.Sequential()\n",
    "model.add(layers.Dense(64, activation=\"relu\", input_shape=(128,)))\n",
    "model.add(layers.Dropout(0.5))\n",
    "model.add(layers.Dense(2, activation=\"softmax\"))\n",
    "\n",
    "model.summary()"
   ]
  },
  {
   "cell_type": "code",
   "execution_count": 351,
   "metadata": {},
   "outputs": [],
   "source": [
    "model.compile(optimizer=\"adam\",\n",
    "              loss=\"categorical_crossentropy\",\n",
    "             metrics=['accuracy'])"
   ]
  },
  {
   "cell_type": "code",
   "execution_count": 352,
   "metadata": {},
   "outputs": [
    {
     "name": "stdout",
     "output_type": "stream",
     "text": [
      "Epoch 1/100\n",
      "10/10 [==============================] - 0s 9ms/step - loss: 0.8439 - accuracy: 0.5641\n",
      "Epoch 2/100\n",
      "10/10 [==============================] - 0s 2ms/step - loss: 0.4084 - accuracy: 0.7949\n",
      "Epoch 3/100\n",
      "10/10 [==============================] - 0s 1ms/step - loss: 0.1968 - accuracy: 0.8846\n",
      "Epoch 4/100\n",
      "10/10 [==============================] - 0s 1ms/step - loss: 0.1703 - accuracy: 0.9359\n",
      "Epoch 5/100\n",
      "10/10 [==============================] - 0s 1ms/step - loss: 0.1548 - accuracy: 0.9231\n",
      "Epoch 6/100\n",
      "10/10 [==============================] - 0s 1ms/step - loss: 0.1058 - accuracy: 0.9744\n",
      "Epoch 7/100\n",
      "10/10 [==============================] - 0s 1ms/step - loss: 0.1222 - accuracy: 0.9231\n",
      "Epoch 8/100\n",
      "10/10 [==============================] - 0s 1ms/step - loss: 0.1128 - accuracy: 0.9487\n",
      "Epoch 9/100\n",
      "10/10 [==============================] - 0s 1ms/step - loss: 0.1024 - accuracy: 0.9487\n",
      "Epoch 10/100\n",
      "10/10 [==============================] - 0s 1ms/step - loss: 0.1041 - accuracy: 0.9615\n",
      "Epoch 11/100\n",
      "10/10 [==============================] - 0s 1ms/step - loss: 0.0552 - accuracy: 1.0000\n",
      "Epoch 12/100\n",
      "10/10 [==============================] - 0s 1ms/step - loss: 0.0718 - accuracy: 0.9872\n",
      "Epoch 13/100\n",
      "10/10 [==============================] - 0s 992us/step - loss: 0.0675 - accuracy: 0.9872\n",
      "Epoch 14/100\n",
      "10/10 [==============================] - 0s 978us/step - loss: 0.0776 - accuracy: 0.9744\n",
      "Epoch 15/100\n",
      "10/10 [==============================] - 0s 1ms/step - loss: 0.0575 - accuracy: 0.9872\n",
      "Epoch 16/100\n",
      "10/10 [==============================] - 0s 1ms/step - loss: 0.0586 - accuracy: 0.9872\n",
      "Epoch 17/100\n",
      "10/10 [==============================] - 0s 1ms/step - loss: 0.0463 - accuracy: 1.0000\n",
      "Epoch 18/100\n",
      "10/10 [==============================] - 0s 1ms/step - loss: 0.0670 - accuracy: 0.9744\n",
      "Epoch 19/100\n",
      "10/10 [==============================] - 0s 1ms/step - loss: 0.0446 - accuracy: 1.0000\n",
      "Epoch 20/100\n",
      "10/10 [==============================] - 0s 1ms/step - loss: 0.0407 - accuracy: 1.0000\n",
      "Epoch 21/100\n",
      "10/10 [==============================] - 0s 910us/step - loss: 0.0465 - accuracy: 0.9872\n",
      "Epoch 22/100\n",
      "10/10 [==============================] - 0s 969us/step - loss: 0.0367 - accuracy: 1.0000\n",
      "Epoch 23/100\n",
      "10/10 [==============================] - 0s 1ms/step - loss: 0.0480 - accuracy: 1.0000\n",
      "Epoch 24/100\n",
      "10/10 [==============================] - 0s 1ms/step - loss: 0.0378 - accuracy: 1.0000\n",
      "Epoch 25/100\n",
      "10/10 [==============================] - 0s 964us/step - loss: 0.0402 - accuracy: 1.0000\n",
      "Epoch 26/100\n",
      "10/10 [==============================] - 0s 932us/step - loss: 0.0239 - accuracy: 1.0000\n",
      "Epoch 27/100\n",
      "10/10 [==============================] - 0s 1ms/step - loss: 0.0273 - accuracy: 1.0000\n",
      "Epoch 28/100\n",
      "10/10 [==============================] - 0s 1ms/step - loss: 0.0210 - accuracy: 1.0000\n",
      "Epoch 29/100\n",
      "10/10 [==============================] - 0s 1ms/step - loss: 0.0199 - accuracy: 1.0000\n",
      "Epoch 30/100\n",
      "10/10 [==============================] - 0s 978us/step - loss: 0.0300 - accuracy: 1.0000\n",
      "Epoch 31/100\n",
      "10/10 [==============================] - 0s 976us/step - loss: 0.0291 - accuracy: 1.0000\n",
      "Epoch 32/100\n",
      "10/10 [==============================] - 0s 1ms/step - loss: 0.0176 - accuracy: 1.0000\n",
      "Epoch 33/100\n",
      "10/10 [==============================] - 0s 1ms/step - loss: 0.0157 - accuracy: 1.0000\n",
      "Epoch 34/100\n",
      "10/10 [==============================] - 0s 1ms/step - loss: 0.0197 - accuracy: 1.0000\n",
      "Epoch 35/100\n",
      "10/10 [==============================] - 0s 1ms/step - loss: 0.0212 - accuracy: 1.0000\n",
      "Epoch 36/100\n",
      "10/10 [==============================] - 0s 997us/step - loss: 0.0166 - accuracy: 1.0000\n",
      "Epoch 37/100\n",
      "10/10 [==============================] - 0s 940us/step - loss: 0.0120 - accuracy: 1.0000\n",
      "Epoch 38/100\n",
      "10/10 [==============================] - 0s 1ms/step - loss: 0.0085 - accuracy: 1.0000\n",
      "Epoch 39/100\n",
      "10/10 [==============================] - 0s 1ms/step - loss: 0.0067 - accuracy: 1.0000\n",
      "Epoch 40/100\n",
      "10/10 [==============================] - 0s 1ms/step - loss: 0.0171 - accuracy: 1.0000\n",
      "Epoch 41/100\n",
      "10/10 [==============================] - 0s 1ms/step - loss: 0.0128 - accuracy: 1.0000\n",
      "Epoch 42/100\n",
      "10/10 [==============================] - 0s 1ms/step - loss: 0.0114 - accuracy: 1.0000\n",
      "Epoch 43/100\n",
      "10/10 [==============================] - 0s 1ms/step - loss: 0.0083 - accuracy: 1.0000\n",
      "Epoch 44/100\n",
      "10/10 [==============================] - 0s 1ms/step - loss: 0.0209 - accuracy: 1.0000\n",
      "Epoch 45/100\n",
      "10/10 [==============================] - 0s 1ms/step - loss: 0.0131 - accuracy: 1.0000\n",
      "Epoch 46/100\n",
      "10/10 [==============================] - 0s 1ms/step - loss: 0.0080 - accuracy: 1.0000\n",
      "Epoch 47/100\n",
      "10/10 [==============================] - 0s 1ms/step - loss: 0.0114 - accuracy: 1.0000\n",
      "Epoch 48/100\n",
      "10/10 [==============================] - 0s 1ms/step - loss: 0.0085 - accuracy: 1.0000\n",
      "Epoch 49/100\n",
      "10/10 [==============================] - 0s 1ms/step - loss: 0.0066 - accuracy: 1.0000\n",
      "Epoch 50/100\n",
      "10/10 [==============================] - 0s 1ms/step - loss: 0.0071 - accuracy: 1.0000\n",
      "Epoch 51/100\n",
      "10/10 [==============================] - 0s 1ms/step - loss: 0.0160 - accuracy: 1.0000\n",
      "Epoch 52/100\n",
      "10/10 [==============================] - 0s 1ms/step - loss: 0.0062 - accuracy: 1.0000\n",
      "Epoch 53/100\n",
      "10/10 [==============================] - 0s 1ms/step - loss: 0.0099 - accuracy: 1.0000\n",
      "Epoch 54/100\n",
      "10/10 [==============================] - 0s 1ms/step - loss: 0.0096 - accuracy: 1.0000\n",
      "Epoch 55/100\n",
      "10/10 [==============================] - 0s 1ms/step - loss: 0.0068 - accuracy: 1.0000\n",
      "Epoch 56/100\n",
      "10/10 [==============================] - 0s 1ms/step - loss: 0.0048 - accuracy: 1.0000\n",
      "Epoch 57/100\n",
      "10/10 [==============================] - 0s 1ms/step - loss: 0.0064 - accuracy: 1.0000\n",
      "Epoch 58/100\n",
      "10/10 [==============================] - 0s 1ms/step - loss: 0.0072 - accuracy: 1.0000\n",
      "Epoch 59/100\n",
      "10/10 [==============================] - 0s 1ms/step - loss: 0.0063 - accuracy: 1.0000\n",
      "Epoch 60/100\n",
      "10/10 [==============================] - 0s 1ms/step - loss: 0.0083 - accuracy: 1.0000\n",
      "Epoch 61/100\n",
      "10/10 [==============================] - 0s 1ms/step - loss: 0.0082 - accuracy: 1.0000\n",
      "Epoch 62/100\n",
      "10/10 [==============================] - 0s 1ms/step - loss: 0.0097 - accuracy: 1.0000\n",
      "Epoch 63/100\n",
      "10/10 [==============================] - 0s 1ms/step - loss: 0.0080 - accuracy: 1.0000\n",
      "Epoch 64/100\n",
      "10/10 [==============================] - 0s 1ms/step - loss: 0.0036 - accuracy: 1.0000\n",
      "Epoch 65/100\n",
      "10/10 [==============================] - 0s 1ms/step - loss: 0.0078 - accuracy: 1.0000\n",
      "Epoch 66/100\n",
      "10/10 [==============================] - 0s 1ms/step - loss: 0.0120 - accuracy: 1.0000\n",
      "Epoch 67/100\n",
      "10/10 [==============================] - 0s 1ms/step - loss: 0.0045 - accuracy: 1.0000\n",
      "Epoch 68/100\n",
      "10/10 [==============================] - 0s 1ms/step - loss: 0.0079 - accuracy: 1.0000\n",
      "Epoch 69/100\n",
      "10/10 [==============================] - 0s 984us/step - loss: 0.0037 - accuracy: 1.0000\n",
      "Epoch 70/100\n",
      "10/10 [==============================] - 0s 1ms/step - loss: 0.0035 - accuracy: 1.0000\n",
      "Epoch 71/100\n",
      "10/10 [==============================] - 0s 1ms/step - loss: 0.0072 - accuracy: 1.0000\n",
      "Epoch 72/100\n",
      "10/10 [==============================] - 0s 1ms/step - loss: 0.0094 - accuracy: 1.0000\n",
      "Epoch 73/100\n",
      "10/10 [==============================] - 0s 1ms/step - loss: 0.0072 - accuracy: 1.0000\n",
      "Epoch 74/100\n",
      "10/10 [==============================] - 0s 1ms/step - loss: 0.0030 - accuracy: 1.0000\n",
      "Epoch 75/100\n",
      "10/10 [==============================] - 0s 1ms/step - loss: 0.0056 - accuracy: 1.0000\n",
      "Epoch 76/100\n",
      "10/10 [==============================] - 0s 939us/step - loss: 0.0053 - accuracy: 1.0000\n",
      "Epoch 77/100\n",
      "10/10 [==============================] - 0s 1ms/step - loss: 0.0074 - accuracy: 1.0000\n",
      "Epoch 78/100\n",
      "10/10 [==============================] - 0s 1ms/step - loss: 0.0095 - accuracy: 1.0000\n",
      "Epoch 79/100\n",
      "10/10 [==============================] - 0s 1ms/step - loss: 0.0044 - accuracy: 1.0000\n",
      "Epoch 80/100\n",
      "10/10 [==============================] - 0s 1ms/step - loss: 0.0025 - accuracy: 1.0000\n",
      "Epoch 81/100\n",
      "10/10 [==============================] - 0s 1ms/step - loss: 0.0025 - accuracy: 1.0000\n",
      "Epoch 82/100\n",
      "10/10 [==============================] - 0s 966us/step - loss: 0.0029 - accuracy: 1.0000\n",
      "Epoch 83/100\n",
      "10/10 [==============================] - 0s 1ms/step - loss: 0.0040 - accuracy: 1.0000\n",
      "Epoch 84/100\n",
      "10/10 [==============================] - 0s 1ms/step - loss: 0.0036 - accuracy: 1.0000\n",
      "Epoch 85/100\n",
      "10/10 [==============================] - 0s 1ms/step - loss: 0.0057 - accuracy: 1.0000\n",
      "Epoch 86/100\n",
      "10/10 [==============================] - 0s 1ms/step - loss: 0.0030 - accuracy: 1.0000\n",
      "Epoch 87/100\n",
      "10/10 [==============================] - 0s 1ms/step - loss: 0.0037 - accuracy: 1.0000\n",
      "Epoch 88/100\n",
      "10/10 [==============================] - 0s 1ms/step - loss: 0.0023 - accuracy: 1.0000\n",
      "Epoch 89/100\n",
      "10/10 [==============================] - 0s 1ms/step - loss: 0.0017 - accuracy: 1.0000\n",
      "Epoch 90/100\n",
      "10/10 [==============================] - 0s 997us/step - loss: 0.0046 - accuracy: 1.0000\n",
      "Epoch 91/100\n",
      "10/10 [==============================] - 0s 1ms/step - loss: 0.0020 - accuracy: 1.0000\n",
      "Epoch 92/100\n",
      "10/10 [==============================] - 0s 1ms/step - loss: 0.0019 - accuracy: 1.0000\n",
      "Epoch 93/100\n",
      "10/10 [==============================] - 0s 1ms/step - loss: 0.0051 - accuracy: 1.0000\n",
      "Epoch 94/100\n",
      "10/10 [==============================] - 0s 995us/step - loss: 0.0042 - accuracy: 1.0000\n",
      "Epoch 95/100\n",
      "10/10 [==============================] - 0s 1ms/step - loss: 0.0022 - accuracy: 1.0000\n",
      "Epoch 96/100\n",
      "10/10 [==============================] - 0s 1ms/step - loss: 0.0034 - accuracy: 1.0000\n",
      "Epoch 97/100\n",
      "10/10 [==============================] - 0s 1ms/step - loss: 0.0039 - accuracy: 1.0000\n",
      "Epoch 98/100\n",
      "10/10 [==============================] - 0s 1ms/step - loss: 0.0018 - accuracy: 1.0000\n",
      "Epoch 99/100\n",
      "10/10 [==============================] - 0s 1ms/step - loss: 0.0107 - accuracy: 0.9872\n",
      "Epoch 100/100\n",
      "10/10 [==============================] - 0s 1ms/step - loss: 0.0025 - accuracy: 1.0000\n"
     ]
    },
    {
     "data": {
      "text/plain": [
       "<tensorflow.python.keras.callbacks.History at 0x7fcbf434fcf8>"
      ]
     },
     "execution_count": 352,
     "metadata": {},
     "output_type": "execute_result"
    }
   ],
   "source": [
    "model.fit(trainX, trainY, epochs=100, batch_size=8)"
   ]
  },
  {
   "cell_type": "code",
   "execution_count": 353,
   "metadata": {},
   "outputs": [],
   "source": [
    "yhat_train = model.predict(trainX)\n",
    "yhat_val   = model.predict(valX) "
   ]
  },
  {
   "cell_type": "code",
   "execution_count": 355,
   "metadata": {},
   "outputs": [
    {
     "data": {
      "text/plain": [
       "array([1, 1, 0, 1, 1, 1, 0, 1, 1, 1, 1, 1, 0, 0, 0, 0, 0, 0, 1, 0, 1, 0,\n",
       "       0, 0, 0, 0])"
      ]
     },
     "execution_count": 355,
     "metadata": {},
     "output_type": "execute_result"
    }
   ],
   "source": [
    "yhat_val = np.argmax(yhat_val, axis=1)\n",
    "yhat_val"
   ]
  },
  {
   "cell_type": "code",
   "execution_count": 356,
   "metadata": {},
   "outputs": [
    {
     "data": {
      "text/plain": [
       "array([1, 1, 1, 1, 1, 1, 1, 1, 1, 1, 1, 1, 0, 0, 0, 0, 0, 0, 0, 0, 0, 0,\n",
       "       0, 0, 0, 0])"
      ]
     },
     "execution_count": 356,
     "metadata": {},
     "output_type": "execute_result"
    }
   ],
   "source": [
    "valY = np.argmax(valY, axis=1)\n",
    "valY"
   ]
  },
  {
   "cell_type": "code",
   "execution_count": 357,
   "metadata": {},
   "outputs": [
    {
     "name": "stdout",
     "output_type": "stream",
     "text": [
      "MODELO : KERAS\n",
      "Acurácia: 0.8462\n",
      "Sensitividade: 0.8571\n",
      "Especificidade: 0.8333\n"
     ]
    },
    {
     "data": {
      "image/png": "[encoded data removed]",
      "text/plain": [
       "<Figure size 360x360 with 1 Axes>"
      ]
     },
     "metadata": {
      "needs_background": "light"
     },
     "output_type": "display_data"
    }
   ],
   "source": [
    "print_confusion_matrix(\"KERAS\", valY, yhat_val)"
   ]
  },
  {
   "cell_type": "code",
   "execution_count": 358,
   "metadata": {},
   "outputs": [],
   "source": [
    "model.save('faces.h5')"
   ]
  },
  {
   "cell_type": "code",
   "execution_count": null,
   "metadata": {},
   "outputs": [],
   "source": []
  }
 ],
 "metadata": {
  "kernelspec": {
   "display_name": "Python 3",
   "language": "python",
   "name": "python3"
  },
  "language_info": {
   "codemirror_mode": {
    "name": "ipython",
    "version": 3
   },
   "file_extension": ".py",
   "mimetype": "text/x-python",
   "name": "python",
   "nbconvert_exporter": "python",
   "pygments_lexer": "ipython3",
   "version": "3.7.3"
  }
 },
 "nbformat": 4,
 "nbformat_minor": 4
}
